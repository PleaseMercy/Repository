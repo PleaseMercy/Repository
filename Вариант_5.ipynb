{
  "nbformat": 4,
  "nbformat_minor": 0,
  "metadata": {
    "colab": {
      "name": "Вариант 5.ipynb",
      "provenance": [],
      "collapsed_sections": [],
      "authorship_tag": "ABX9TyMLphL5JkEkYG/Aoi2OS0It",
      "include_colab_link": true
    },
    "kernelspec": {
      "name": "python3",
      "display_name": "Python 3"
    }
  },
  "cells": [
    {
      "cell_type": "markdown",
      "metadata": {
        "id": "view-in-github",
        "colab_type": "text"
      },
      "source": [
        "<a href=\"https://colab.research.google.com/github/PleaseMercy/Repository/blob/master/%D0%92%D0%B0%D1%80%D0%B8%D0%B0%D0%BD%D1%82_5.ipynb\" target=\"_parent\"><img src=\"https://colab.research.google.com/assets/colab-badge.svg\" alt=\"Open In Colab\"/></a>"
      ]
    },
    {
      "cell_type": "code",
      "metadata": {
        "id": "YFLQl-F7qipC",
        "colab_type": "code",
        "colab": {}
      },
      "source": [
        "#C1.1\n",
        "import math\n",
        "print('Введите катеты')\n",
        "a = input()\n",
        "b = input()\n",
        "print('Гипотенуза = ' + str(math.sqrt(int(a)**2 + int(b)**2)))\n",
        "print('Площадь = ' + str(int(a) * int(b) * 0.5))"
      ],
      "execution_count": 0,
      "outputs": []
    },
    {
      "cell_type": "code",
      "metadata": {
        "id": "eUU9Y-Bp4dsA",
        "colab_type": "code",
        "colab": {}
      },
      "source": [
        "#C1.2\n",
        "print('Введите a,b,c,x,y')\n",
        "a = input()\n",
        "b = input()\n",
        "c = input()\n",
        "x = input()\n",
        "y = input()\n",
        "\n",
        "\n",
        "a = int(a) \n",
        "b = int(b) \n",
        "c = int(c) \n",
        "x = int(x) \n",
        "y = int(y) \n",
        "\n",
        "bol = False\n",
        "if ((a<=x) and (b<y)) or ((b<x) and (a<y)) or ((a<x) and (c<y)) or ((c<x) and (a<y)) or ((c<x) and (b<y)) or ((b<x) and (c<y)) : print('Пройдет') \n",
        "else : print('Не пройдет')"
      ],
      "execution_count": 0,
      "outputs": []
    },
    {
      "cell_type": "code",
      "metadata": {
        "id": "g_AvFsi44lk3",
        "colab_type": "code",
        "colab": {}
      },
      "source": [
        "#C1.3 (PyChram)\n",
        "from tkinter import *\n",
        "root = Tk()\n",
        "root.title(\"Треугольник\")\n",
        "c = Canvas(root, width = 300, height = 300, bg = 'black')\n",
        "c.pack()\n",
        "c.create_polygon([100, 100], [150, 100], [80, 70], fill = 'white')\n",
        "root2 = Tk()\n",
        "root2.title(\"Квадрат\")\n",
        "c2 = Canvas(root2, width = 300, height = 300, bg = 'black')\n",
        "c2.pack()\n",
        "c2.create_rectangle(80, 150, 170, 80, fill = 'purple')\n",
        "root3 = Tk()\n",
        "root3.title(\"Пятиугольник\")\n",
        "c3 = Canvas(root3, width = 300, height = 300, bg = 'black')\n",
        "c3.pack()\n",
        "c3.create_polygon([100, 100], [150, 100], [170, 120], [150, 140], [100, 140], fill = 'red')\n",
        "root4 = Tk()\n",
        "root4.title(\"Пятиугольник\")\n",
        "c4 = Canvas(root4, width = 300, height = 300, bg = 'black')\n",
        "c4.pack()\n",
        "c4.create_polygon([120, 100], [140, 120], [140, 140], [120, 160], [100, 140], [100, 120], fill = 'blue')\n",
        "root.mainloop()"
      ],
      "execution_count": 0,
      "outputs": []
    },
    {
      "cell_type": "code",
      "metadata": {
        "id": "xf_BDZDB_i9i",
        "colab_type": "code",
        "colab": {}
      },
      "source": [
        "#C2.1\n",
        "print('Введите число n ()')\n",
        "n = input()\n",
        "n = int(n)\n",
        "cub = 0\n",
        "while (n != 0):\n",
        "  cub += n%10\n",
        "  n //= 10  \n",
        "if (int(n**2) == int(cub)**3) : print('Верно')\n",
        "else : print('Неверно')"
      ],
      "execution_count": 0,
      "outputs": []
    },
    {
      "cell_type": "code",
      "metadata": {
        "id": "2BmoladvDXlO",
        "colab_type": "code",
        "colab": {}
      },
      "source": [
        "#C2.2\n",
        "import math\n",
        "print('Введите n')\n",
        "n = int(input())\n",
        "i = int\n",
        "result = 0\n",
        "for i in range(1,n+1):\n",
        "    result += math.sin(i)\n",
        "print(\"Результат: \", 1/result)"
      ],
      "execution_count": 0,
      "outputs": []
    },
    {
      "cell_type": "code",
      "metadata": {
        "id": "zXu6_genFtqK",
        "colab_type": "code",
        "colab": {}
      },
      "source": [
        "#C2.3\n",
        "import matplotlib as mpl\n",
        "import matplotlib.pyplot as plt\n",
        "import matplotlib.dates as mdates\n",
        "import datetime as dt\n",
        "import csv\n",
        "\n",
        "data_names = ['Threadripper 3990X', 'Threadripper 3970X', 'Ryzen 9 3950X', 'Ryzen 7 3800X', 'Ryzen 5 3600X', 'Ryzen 7 2700X', 'Ryzen 3 2300X']\n",
        "data_values = [44617, 36077, 21790, 15576, 12653, 11147, 5177]\n",
        "dpi = 80\n",
        "fig = plt.figure(dpi = dpi, figsize = (512 / dpi, 384 / dpi) )\n",
        "mpl.rcParams.update({'font.size': 10})\n",
        "plt.title('Быстродействие процессоров AMD')\n",
        "ax = plt.axes()\n",
        "ax.yaxis.grid(True, zorder = 1)\n",
        "xs = range(len(data_names))\n",
        "plt.bar([x + 0.05 for x in xs], [ d * 0.9 for d in data_values],\n",
        "        width = 0.5, color = {'black':   [(0.0,  0.0, 0.0),\n",
        "                   (0.5,  1.0, 1.0),\n",
        "                   (1.0,  1.0, 1.0)],\n",
        "         'red': [(0.0,  0.0, 0.0),\n",
        "                   (0.25, 0.0, 0.0),\n",
        "                   (0.75, 1.0, 1.0),\n",
        "                   (1.0,  1.0, 1.0)],\n",
        "         'purple':  [(0.0,  0.0, 0.0),\n",
        "                   (0.5,  0.0, 0.0),\n",
        "                   (1.0,  1.0, 1.0)]} \n",
        "        , alpha = 0.7,\n",
        "        zorder = 2)\n",
        "plt.xticks(xs, data_names)\n",
        "fig.autofmt_xdate(rotation = 25)\n",
        "plt.legend(loc='upper right')\n",
        "fig.savefig('bars.png')"
      ],
      "execution_count": 0,
      "outputs": []
    },
    {
      "cell_type": "code",
      "metadata": {
        "id": "gXcJXvQzIUpG",
        "colab_type": "code",
        "colab": {}
      },
      "source": [
        "#C3.1\n",
        "import math\n",
        "ar = [3,22,6,14,80,90,100]\n",
        "for i in ar:\n",
        "  if( (i % 2 == 0) and (i / 2) % 2 != 0) :\n",
        "    print(i)"
      ],
      "execution_count": 0,
      "outputs": []
    },
    {
      "cell_type": "code",
      "metadata": {
        "id": "1cFKcbOFNMc8",
        "colab_type": "code",
        "colab": {}
      },
      "source": [
        "#C3.2\n",
        "import math \n",
        "n = int(input(\"Введите натуральное число: \")) \n",
        "i = 1 \n",
        "b = [] \n",
        "while i <= n: \n",
        " number = (math.pow(2,i) + math.pow(3,i+1))\n",
        " b.append(number) \n",
        " print(i,\"-й элемент \", b[i-1]) \n",
        " i += 1"
      ],
      "execution_count": 0,
      "outputs": []
    },
    {
      "cell_type": "code",
      "metadata": {
        "id": "34Hb6fkIOQQL",
        "colab_type": "code",
        "colab": {}
      },
      "source": [
        "#С3.3 (PyChram)\n",
        "from tkinter import *\n",
        "import time\n",
        "root = Tk()\n",
        "time1 = ''\n",
        "clock = Label(root, font=('times', 20, 'bold'), bg='white')\n",
        "clock.pack(fill=BOTH, expand=1)\n",
        "def tick():\n",
        "    global time1\n",
        "    time2 = time.strftime('%H:%M:%S')\n",
        "    if time2 != time1:\n",
        "        time1 = time2\n",
        "        clock.config(text=time2)\n",
        "    clock.after(200, tick)\n",
        "tick()\n",
        "root.mainloop(  )"
      ],
      "execution_count": 0,
      "outputs": []
    },
    {
      "cell_type": "code",
      "metadata": {
        "id": "OFnQt53mPlGM",
        "colab_type": "code",
        "colab": {}
      },
      "source": [
        "#C4.1\n",
        "n = input()\n",
        "n = int(n)\n",
        "float(d)\n",
        "float(f)\n",
        "float(x2k)\n",
        "float(y)\n",
        "float(q)\n",
        "x = input()\n",
        "x = float(x)\n",
        "x2k = 1.0\n",
        "d = 1.0\n",
        "for k in range(n):\n",
        "  x2k = x2k * x**2\n",
        "  if ((x >= 0) or (k % 2) != 0):\n",
        "    if (x > 0) : y = math.exp(math.log10(x)*3/k) \n",
        "    elif: (x < 0)\n",
        "      y = (-1) * math.exp(math.log10((-1)*x)*3/k)\n",
        "      else:  y = 0\n",
        "    y = math.exp(math.cos(x2k) * math.sin(y)) \n",
        "    f = math.abs(y%1)\n",
        "    if (f >= 0.5): f -= 1\n",
        "    if (f < d):\n",
        "      d = f\n",
        "      q = y \n",
        " print(q)     "
      ],
      "execution_count": 0,
      "outputs": []
    },
    {
      "cell_type": "code",
      "metadata": {
        "id": "0-PBdyaIUqXS",
        "colab_type": "code",
        "colab": {}
      },
      "source": [
        "#C4.2\n",
        "str = input('Введите строку')\n",
        "i = 0\n",
        "while str[i] != '!':\n",
        "  if (str[i] == str[i+1]) :\n",
        "    print(\"Имеется пара одинаковых символов\")\n",
        "  i += 1"
      ],
      "execution_count": 0,
      "outputs": []
    },
    {
      "cell_type": "code",
      "metadata": {
        "id": "qpap-8u0V0Q-",
        "colab_type": "code",
        "colab": {}
      },
      "source": [
        "#C4.3 (PyChram)\n",
        "from tkinter import *\n",
        "import random\n",
        "window = Tk()\n",
        "window.title(\"Прямоугольник\")\n",
        "can = Canvas(window, width = 400, height = 400, bg = 'red')\n",
        "can.pack()\n",
        "n = int(input(\"Введие натуральное число n:\"))\n",
        "gg = [random.randint(0,300) for i in range(n)]\n",
        "i = 0\n",
        "while i < len(gg):\n",
        "    if (i % 4 == 0) and (i + 4 < len(gg)):\n",
        "      x1 = gg[i] - gg[i+2] / 2\n",
        "      x2 = gg[i+1] - gg[i+3] / 2\n",
        "      y1 = gg[i] + gg[i+2] / 2\n",
        "      y2 = gg[i+1] + gg[i+3] / 2\n",
        "      can.create_rectangle(x1, y1, x2, y2, fill = 'blue')\n",
        "    i += 1\n",
        "window.mainloop()"
      ],
      "execution_count": 0,
      "outputs": []
    }
  ]
}