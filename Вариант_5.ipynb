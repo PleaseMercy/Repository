{
  "nbformat": 4,
  "nbformat_minor": 0,
  "metadata": {
    "colab": {
      "name": "Вариант 5.ipynb",
      "provenance": [],
      "authorship_tag": "ABX9TyPIhnEIlj/x4kCQRovsN9pn",
      "include_colab_link": true
    },
    "kernelspec": {
      "name": "python3",
      "display_name": "Python 3"
    }
  },
  "cells": [
    {
      "cell_type": "markdown",
      "metadata": {
        "id": "view-in-github",
        "colab_type": "text"
      },
      "source": [
        "<a href=\"https://colab.research.google.com/github/PleaseMercy/Repository/blob/master/%D0%92%D0%B0%D1%80%D0%B8%D0%B0%D0%BD%D1%82_5.ipynb\" target=\"_parent\"><img src=\"https://colab.research.google.com/assets/colab-badge.svg\" alt=\"Open In Colab\"/></a>"
      ]
    },
    {
      "cell_type": "code",
      "metadata": {
        "id": "YFLQl-F7qipC",
        "colab_type": "code",
        "colab": {}
      },
      "source": [
        "#C1.1\n",
        "import math\n",
        "print('Введите катеты')\n",
        "a = input()\n",
        "b = input()\n",
        "print('Гипотенуза = ' + str(math.sqrt(int(a)**2 + int(b)**2)))\n",
        "print('Площадь = ' + str(int(a) * int(b) * 0.5))"
      ],
      "execution_count": 0,
      "outputs": []
    },
    {
      "cell_type": "code",
      "metadata": {
        "id": "eUU9Y-Bp4dsA",
        "colab_type": "code",
        "colab": {}
      },
      "source": [
        "#C1.2\n",
        "print('Введите a,b,c,x,y')\n",
        "a = input()\n",
        "b = input()\n",
        "c = input()\n",
        "x = input()\n",
        "y = input()\n",
        "\n",
        "\n",
        "a = int(a) \n",
        "b = int(b) \n",
        "c = int(c) \n",
        "x = int(x) \n",
        "y = int(y) \n",
        "\n",
        "bol = False\n",
        "if ((a<=x) and (b<y)) or ((b<x) and (a<y)) or ((a<x) and (c<y)) or ((c<x) and (a<y)) or ((c<x) and (b<y)) or ((b<x) and (c<y)) : print('Пройдет') \n",
        "else : print('Не пройдет')"
      ],
      "execution_count": 0,
      "outputs": []
    },
    {
      "cell_type": "code",
      "metadata": {
        "id": "g_AvFsi44lk3",
        "colab_type": "code",
        "colab": {}
      },
      "source": [
        "#C1.3\n",
        "from tkinter import *\n",
        "root = Tk()\n",
        "root.title(\"Треугольник\")\n",
        "c = Canvas(root, width = 300, height = 300, bg = 'red')\n",
        "c.pack()\n",
        "c.create_polygon([100, 100], [150, 100], [80, 70], fill = 'green')\n",
        "root2 = Tk()\n",
        "root2.title(\"Квадрат\")\n",
        "c2 = Canvas(root2, width = 300, height = 300, bg = 'red')\n",
        "c2.pack()\n",
        "c2.create_rectangle(80, 150, 170, 80, fill = 'white')\n",
        "root3 = Tk()\n",
        "root3.title(\"Пятиугольник\")\n",
        "c3 = Canvas(root3, width = 300, height = 300, bg = 'red')\n",
        "c3.pack()\n",
        "c3.create_polygon([100, 100], [150, 100], [170, 120], [150, 140], [100, 140], fill = 'purple')\n",
        "root4 = Tk()\n",
        "root4.title(\"Пятиугольник\")\n",
        "c4 = Canvas(root4, width = 300, height = 300, bg = 'red')\n",
        "c4.pack()\n",
        "c4.create_polygon([120, 100], [140, 120], [140, 140], [120, 160], [100, 140], [100, 120], fill = 'blue')\n",
        "root.mainloop()\n"
      ],
      "execution_count": 0,
      "outputs": []
    }
  ]
}