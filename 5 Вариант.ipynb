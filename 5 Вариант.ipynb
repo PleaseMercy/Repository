{
  "nbformat": 4,
  "nbformat_minor": 0,
  "metadata": {
    "colab": {
      "name": "C1.2 #56.ipynb",
      "provenance": [],
      "authorship_tag": "ABX9TyN6pfaRmD6scz597iVvHJDw",
      "include_colab_link": true
    },
    "kernelspec": {
      "name": "python3",
      "display_name": "Python 3"
    }
  },
  "cells": [
    {
      "cell_type": "markdown",
      "metadata": {
        "id": "view-in-github",
        "colab_type": "text"
      },
      "source": [
        "<a href=\"https://colab.research.google.com/github/PleaseMercy/Repository/blob/master/C1_2_56.ipynb\" target=\"_parent\"><img src=\"https://colab.research.google.com/assets/colab-badge.svg\" alt=\"Open In Colab\"/></a>"
      ]
    },
    {
      "cell_type": "code",
      "metadata": {
        "id": "t9LRu7y7lhqP",
        "colab_type": "code",
        "colab": {
          "base_uri": "https://localhost:8080/",
          "height": 136
        },
        "outputId": "9911b4f0-175b-427b-8535-7b951f3b34ca"
      },
      "source": [
        "print('Введите a,b,c,x,y')\n",
        "a = input()\n",
        "b = input()\n",
        "c = input()\n",
        "x = input()\n",
        "y = input()\n",
        "\n",
        "\n",
        "a = int(a) \n",
        "b = int(b) \n",
        "c = int(c) \n",
        "x = int(x) \n",
        "y = int(y) \n",
        "\n",
        "bol = False\n",
        "if ((a<=x) and (b<y)) or ((b<x) and (a<y)) or ((a<x) and (c<y)) or ((c<x) and (a<y)) or ((c<x) and (b<y)) or ((b<x) and (c<y)) : print('Пройдет') \n",
        "else : print('Не пройдет')"
      ],
      "execution_count": 14,
      "outputs": [
        {
          "output_type": "stream",
          "text": [
            "Введите a,b,c,x,y\n",
            "3\n",
            "3\n",
            "5\n",
            "3\n",
            "3\n",
            "Пройдет\n"
          ],
          "name": "stdout"
        }
      ]
    }
  ]
}
