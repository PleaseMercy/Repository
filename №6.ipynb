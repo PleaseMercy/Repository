{
  "nbformat": 4,
  "nbformat_minor": 0,
  "metadata": {
    "colab": {
      "name": "Untitled0.ipynb",
      "provenance": []
    },
    "kernelspec": {
      "name": "python3",
      "display_name": "Python 3"
    }
  },
  "cells": [
    {
      "cell_type": "code",
      "metadata": {
        "id": "AoZdAv4I5X6D",
        "colab_type": "code",
        "colab": {}
      },
      "source": [
        " import math\n",
        " print('Введите 1 и 2 число')\n",
        " v1 = input()\n",
        " v2 = input()\n",
        " print( str((int(v1)+int(v2))/int(2)) + ' - среднее арифметическое')\n",
        " print(str(math.sqrt(abs(int(v1))+abs(int(v2)))) + ' - среднее геометрическое')"
      ],
      "execution_count": 0,
      "outputs": []
    }
  ]
}